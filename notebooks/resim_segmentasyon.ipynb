{
 "cells": [
  {
   "cell_type": "code",
   "execution_count": 1,
   "metadata": {},
   "outputs": [],
   "source": [
    "#OTSUNUN BİNARİZASYONU\n",
    "\n",
    "import cv2\n",
    "import numpy as np\n",
    "\n",
    "# Resmi yükle\n",
    "resim_yolu = \"output1.PNG\"             #ARKAPLAN DÜZ OLDUĞUNDA TANIYO\n",
    "resim = cv2.imread(resim_yolu)\n",
    "\n",
    "# Resmi siyah beyaz yap\n",
    "siyah_beyaz_resim = cv2.cvtColor(resim, cv2.COLOR_BGR2GRAY)\n",
    "\n",
    "# Otsu'nun Binarizasyonu ile eşik değerini otomatik olarak belirle\n",
    "_, siyah_beyaz_resim = cv2.threshold(siyah_beyaz_resim, 0, 255, cv2.THRESH_BINARY + cv2.THRESH_OTSU)\n",
    "\n",
    "# Dönüştürülmüş resmi göster\n",
    "cv2.imshow(\"Dönüştürülmüş Resim\", siyah_beyaz_resim)\n",
    "\n",
    "\n",
    "# Her piksel değerine 10 ekle\n",
    "satir, sutun = siyah_beyaz_resim.shape\n",
    "for i in range(satir):\n",
    "    for j in range(sutun):\n",
    "        # Her piksel değerine 10 ekle (bu örnekte)\n",
    "        #print(siyah_beyaz_resim[i, j] )\n",
    "        if(siyah_beyaz_resim[i, j] == 255):\n",
    "            siyah_beyaz_resim[i, j] = 0\n",
    "        else:\n",
    "            siyah_beyaz_resim[i, j] = 255\n",
    "        \n",
    "\n",
    "# Dönüştürülmüş resmi göster\n",
    "cv2.imshow(\"Dönüştürülmemiş Resim\", resim)\n",
    "cv2.imshow(\"Dönüştürülmüş Resim\", siyah_beyaz_resim)\n",
    "cv2.imwrite(\"sayi1.png\", siyah_beyaz_resim)\n",
    "cv2.waitKey(0)\n",
    "cv2.destroyAllWindows()"
   ]
  },
  {
   "cell_type": "markdown",
   "metadata": {},
   "source": [
    "Alttaki parçalıyo hepsini ve boyutlandırıyo"
   ]
  },
  {
   "cell_type": "code",
   "execution_count": 1,
   "metadata": {},
   "outputs": [
    {
     "name": "stdout",
     "output_type": "stream",
     "text": [
      "Bileşenler sıralı bir şekilde kaydedildi ve 28x28 boyutuna yeniden boyutlandırıldı, kenarlık bırakıldı.\n"
     ]
    }
   ],
   "source": [
    "import cv2\n",
    "import numpy as np\n",
    "\n",
    "# Görüntüyü yükleme\n",
    "image = cv2.imread('sayi1.png', cv2.IMREAD_GRAYSCALE)\n",
    "\n",
    "# Bağlı bileşenlerin analizi ve istatistiklerin elde edilmesi\n",
    "num_labels, labels, stats, centroids = cv2.connectedComponentsWithStats(image)\n",
    "\n",
    "# Ağırlık merkezlerine göre sıralama yapmak için bir liste hazırla\n",
    "sorting_list = []\n",
    "for i in range(1, num_labels):  # 0. etiket arka plan için olduğundan atlıyoruz\n",
    "    sorting_list.append((centroids[i, 0], i))  # (X koordinatı, etiket numarası)\n",
    "\n",
    "# X koordinatına göre sırala\n",
    "sorted_indices = sorted(sorting_list, key=lambda x: x[0])\n",
    "\n",
    "# Sıralı bileşenleri kaydet\n",
    "for idx, (_, label) in enumerate(sorted_indices):\n",
    "    # Bileşenin sınırlayıcı kutusunu al\n",
    "    x, y, w, h, area = stats[label]\n",
    "    \n",
    "    # Bileşeni ayır\n",
    "    component = np.zeros_like(image)\n",
    "    component[labels == label] = 255\n",
    "    \n",
    "    # Bileşenin sınırlayıcı kutusunu kontrol et\n",
    "    if w > 28 or h > 28:\n",
    "        # Bileşeni 28x28 boyutuna yeniden boyutlandır ve kenarlık bırak\n",
    "        component = cv2.resize(component[y:y+h, x:x+w], (28, 28))\n",
    "        border_size = 10 # Kenarlık boyutu\n",
    "        component = cv2.copyMakeBorder(component, border_size, border_size, border_size, border_size, cv2.BORDER_CONSTANT, value=0)\n",
    "    \n",
    "    # Her bileşeni ayrı bir dosyaya kaydet\n",
    "    cv2.imwrite(f'{idx}.png', component)\n",
    "\n",
    "print(\"Bileşenler sıralı bir şekilde kaydedildi ve 28x28 boyutuna yeniden boyutlandırıldı, kenarlık bırakıldı.\")\n"
   ]
  }
 ],
 "metadata": {
  "kernelspec": {
   "display_name": "Python 3",
   "language": "python",
   "name": "python3"
  },
  "language_info": {
   "codemirror_mode": {
    "name": "ipython",
    "version": 3
   },
   "file_extension": ".py",
   "mimetype": "text/x-python",
   "name": "python",
   "nbconvert_exporter": "python",
   "pygments_lexer": "ipython3",
   "version": "3.11.7"
  }
 },
 "nbformat": 4,
 "nbformat_minor": 2
}
