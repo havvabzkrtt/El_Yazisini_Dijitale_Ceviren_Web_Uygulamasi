{
 "cells": [
  {
   "cell_type": "code",
   "execution_count": 1,
   "metadata": {},
   "outputs": [
    {
     "name": "stdout",
     "output_type": "stream",
     "text": [
      "WARNING:tensorflow:From c:\\Users\\havva\\AppData\\Local\\Programs\\Python\\Python311\\Lib\\site-packages\\keras\\src\\losses.py:2976: The name tf.losses.sparse_softmax_cross_entropy is deprecated. Please use tf.compat.v1.losses.sparse_softmax_cross_entropy instead.\n",
      "\n"
     ]
    }
   ],
   "source": [
    "import numpy as np\n",
    "import pandas as pd\n",
    "import matplotlib.pyplot as plt\n",
    "import keras"
   ]
  },
  {
   "cell_type": "code",
   "execution_count": 7,
   "metadata": {},
   "outputs": [],
   "source": [
    "import tensorflow as tf\n",
    "\n",
    "# Önceden eğitilmiş modeli yükle\n",
    "model = tf.keras.models.load_model('model2.h5')  # Örnek dosya adı"
   ]
  },
  {
   "cell_type": "code",
   "execution_count": 8,
   "metadata": {},
   "outputs": [],
   "source": [
    "\n",
    "import pandas as pd\n",
    "\"\"\"\n",
    "# DataFrame'i CSV dosyası olarak kaydetme\n",
    "df.to_csv('ascii_map.csv', index=False)\n",
    "\"\"\"\n",
    "# Başka bir kod dosyasında CSV dosyasını okuma\n",
    "ascii_map = pd.read_csv('mapping.csv')"
   ]
  },
  {
   "cell_type": "code",
   "execution_count": 9,
   "metadata": {},
   "outputs": [
    {
     "name": "stdout",
     "output_type": "stream",
     "text": [
      "1/1 [==============================] - 0s 145ms/step\n",
      "1/1 [==============================] - 0s 27ms/step\n",
      "1/1 [==============================] - 0s 28ms/step\n",
      "1/1 [==============================] - 0s 35ms/step\n",
      "1/1 [==============================] - 0s 39ms/step\n",
      "1/1 [==============================] - 0s 44ms/step\n",
      "1/1 [==============================] - 0s 38ms/step\n",
      "1/1 [==============================] - 0s 31ms/step\n"
     ]
    },
    {
     "data": {
      "image/png": "[encoded data removed]",
      "text/plain": [
       "<Figure size 1600x200 with 8 Axes>"
      ]
     },
     "metadata": {},
     "output_type": "display_data"
    }
   ],
   "source": [
    "from keras.preprocessing import image\n",
    "import cv2\n",
    "import matplotlib.pyplot as plt\n",
    "import numpy as np\n",
    "\n",
    "\n",
    "# Örnek bir model ve ascii_map varsayılan olarak tanımlanmış gibi kabul edilecektir.\n",
    "# Modelin ve ascii_map'in gerçek değerleri kodunuzda tanımlanmış olmalıdır.\n",
    "\n",
    "\n",
    "def predict_image(image_path):\n",
    "    img = image.load_img(image_path, target_size=(28, 28))\n",
    "    x = image.img_to_array(img)\n",
    "    x = x / 255.0\n",
    "\n",
    "    gray_image = cv2.cvtColor(x, cv2.COLOR_BGR2GRAY)\n",
    "    gray_image = np.expand_dims(gray_image, axis=-1)\n",
    "    gray_image = np.expand_dims(gray_image, axis=0)\n",
    "    cl = model.predict(gray_image)\n",
    "    cl = list(cl[0])\n",
    "\n",
    "    return ascii_map[\"Character\"][cl.index(max(cl))]\n",
    "\n",
    "# Tahmin edilecek resimlerin listesi\n",
    "#image_paths = [\"test_veri/kucuk_a.png\", \"test_veri/kucuk_b.png\", \"test_veri/kucuk_e.png\", \"test_veri/kucuk_f.png\", \"test_veri/kucuk_g.PNG\", \"test_veri/kucuk_h.png\", \"test_veri/kucuk_k.PNG\", \"test_veri/kucuk_w.PNG\", \"test_veri/kucuk_y.PNG\" , \"test_veri/kucuk_z.png\" ]\n",
    "#image_paths = [\"1.PNG\", \"2.PNG\", \"3.PNG\", \"4.PNG\", \"5.PNG\", \"6.PNG\", \"7.PNG\", \"8.PNG\", ]\n",
    "image_paths = [\"1.PNG\", \"2.PNG\", \"3.PNG\", \"4.PNG\", \"5.PNG\", \"6.PNG\", \"7.PNG\", \"8.PNG\"]\n",
    "# Tüm resimleri yan yana göstermek için subplot kullanalım\n",
    "plt.figure(figsize=(len(image_paths) * 2, 2))\n",
    "for i, image_path in enumerate(image_paths):\n",
    "    plt.subplot(2, len(image_paths), i + 1)\n",
    "    img = cv2.imread(image_path)\n",
    "    plt.imshow(cv2.cvtColor(img, cv2.COLOR_BGR2RGB))\n",
    "    plt.title(f\"Prediction: {predict_image(image_path)}\")\n",
    "    plt.axis('off')\n",
    "\n",
    "plt.show()\n"
   ]
  },
  {
   "cell_type": "code",
   "execution_count": null,
   "metadata": {},
   "outputs": [],
   "source": [
    "# DİZİ İÇERİSİNDE BULUNAN RESİMLERLE TAHMİN \n",
    "def predict_image(component):\n",
    "    img = cv2.resize(component, (28, 28))\n",
    "    x = np.expand_dims(img, axis=0)  # Batch boyutunu ekleyin\n",
    "    x = x / 255.0  # Normalizasyon\n",
    "\n",
    "    cl = model.predict(x)\n",
    "    cl = list(cl[0])\n",
    "\n",
    "    return ascii_map[\"Character\"][cl.index(max(cl))]\n",
    "\n",
    "components = []\n",
    "# Tüm resimleri yan yana göstermek için subplot kullanalım\n",
    "plt.figure(figsize=(len(components) * 2, 2))\n",
    "for i, component in enumerate(components, start=1):\n",
    "    plt.subplot(1, len(components), i)\n",
    "    plt.imshow(component, cmap='gray')\n",
    "    plt.title(f\"Prediction: {predict_image(component)}\")\n",
    "    plt.axis('off')\n",
    "\n",
    "plt.show()\n"
   ]
  },
  {
   "cell_type": "code",
   "execution_count": 9,
   "metadata": {},
   "outputs": [
    {
     "name": "stdout",
     "output_type": "stream",
     "text": [
      "(28, 28, 3)\n",
      "1/1 [==============================] - 0s 112ms/step\n",
      "Prediction :  A\n"
     ]
    },
    {
     "data": {
      "image/png": "[encoded data removed]",
      "text/plain": [
       "<Figure size 640x480 with 1 Axes>"
      ]
     },
     "metadata": {},
     "output_type": "display_data"
    }
   ],
   "source": [
    "from keras.preprocessing import image\n",
    "import cv2\n",
    "\n",
    "img_sh_lst = []\n",
    "img = image.load_img(\"test_veri/A.png\",target_size=(28,28))\n",
    "x = image.img_to_array(img)\n",
    "print(x.shape)\n",
    "x = x/255.0\n",
    "\n",
    "gray_image = cv2.cvtColor(x, cv2.COLOR_BGR2GRAY)\n",
    "gray_image = np.expand_dims(gray_image, axis=-1)\n",
    "plt.imshow(gray_image)\n",
    "gray_image = np.expand_dims(gray_image, axis=0)\n",
    "cl = model.predict(gray_image)\n",
    "cl = list(cl[0])\n",
    "\n",
    "print(\"Prediction : \",ascii_map[\"Character\"][cl.index(max(cl))])\n"
   ]
  },
  {
   "cell_type": "code",
   "execution_count": 10,
   "metadata": {},
   "outputs": [
    {
     "name": "stdout",
     "output_type": "stream",
     "text": [
      "(28, 28, 3)\n",
      "1/1 [==============================] - 0s 54ms/step\n",
      "Prediction :  a\n"
     ]
    },
    {
     "data": {
      "image/png": "[encoded data removed]",
      "text/plain": [
       "<Figure size 640x480 with 1 Axes>"
      ]
     },
     "metadata": {},
     "output_type": "display_data"
    }
   ],
   "source": [
    "from keras.preprocessing import image\n",
    "import cv2\n",
    "\n",
    "img_sh_lst = []\n",
    "img = image.load_img(\"test_veri/kucuk_a.png\",target_size=(28,28))\n",
    "x = image.img_to_array(img)\n",
    "print(x.shape)\n",
    "x = x/255.0\n",
    "\n",
    "gray_image = cv2.cvtColor(x, cv2.COLOR_BGR2GRAY)\n",
    "gray_image = np.expand_dims(gray_image, axis=-1)\n",
    "plt.imshow(gray_image)\n",
    "gray_image = np.expand_dims(gray_image, axis=0)\n",
    "cl = model.predict(gray_image)\n",
    "cl = list(cl[0])\n",
    "\n",
    "print(\"Prediction : \",ascii_map[\"Character\"][cl.index(max(cl))])\n"
   ]
  },
  {
   "cell_type": "markdown",
   "metadata": {},
   "source": [
    "GPU DENE\n",
    "\n",
    "genellikle bir modeli eğitmek çok zaman alır, ancak aynı şey için GPU kullanırsak, aynı verileri eğitmek için zaman 10 kata kadar azalacaktır\n",
    "\n",
    "https://www.youtube.com/watch?v=ffpderNqb3c : işe yaramadı, grafik ayarlarından vscodu ekledim sonra kaldırdım s"
   ]
  },
  {
   "cell_type": "code",
   "execution_count": 1,
   "metadata": {},
   "outputs": [
    {
     "name": "stdout",
     "output_type": "stream",
     "text": [
      "WARNING:tensorflow:From c:\\Users\\havva\\AppData\\Local\\Programs\\Python\\Python311\\Lib\\site-packages\\keras\\src\\losses.py:2976: The name tf.losses.sparse_softmax_cross_entropy is deprecated. Please use tf.compat.v1.losses.sparse_softmax_cross_entropy instead.\n",
      "\n",
      "GPU bulunamadı. Lütfen driver ve CUDA ayarlarınızı kontrol edin.\n"
     ]
    }
   ],
   "source": [
    "import tensorflow as tf\n",
    "\n",
    "# TensorFlow'un kullanılabilir GPU'ları listele\n",
    "gpus = tf.config.list_physical_devices('GPU')\n",
    "if gpus:\n",
    "    print(\"Kullanılabilir GPU'lar:\", gpus)\n",
    "else:\n",
    "    print(\"GPU bulunamadı. Lütfen driver ve CUDA ayarlarınızı kontrol edin.\")"
   ]
  },
  {
   "cell_type": "code",
   "execution_count": 5,
   "metadata": {},
   "outputs": [
    {
     "name": "stdout",
     "output_type": "stream",
     "text": [
      "GPU bulunamadı.\n"
     ]
    }
   ],
   "source": [
    "import tensorflow as tf\n",
    "\n",
    "# TensorFlow GPU kullanımını belirtin\n",
    "gpus = tf.config.experimental.list_physical_devices('GPU')\n",
    "if gpus:\n",
    "    try:\n",
    "        # Tüm GPU'ları kullan\n",
    "        for gpu in gpus:\n",
    "            tf.config.experimental.set_memory_growth(gpu, True)\n",
    "        logical_gpus = tf.config.experimental.list_logical_devices('GPU')\n",
    "        print(len(gpus), \"Fiziksel GPU,\", len(logical_gpus), \"Mantıksal GPU bulunuyor\")\n",
    "    except RuntimeError as e:\n",
    "        # Hata durumunda\n",
    "        print(e)\n",
    "else:\n",
    "    print(\"GPU bulunamadı.\")\n"
   ]
  }
 ],
 "metadata": {
  "kernelspec": {
   "display_name": "Python 3",
   "language": "python",
   "name": "python3"
  },
  "language_info": {
   "codemirror_mode": {
    "name": "ipython",
    "version": 3
   },
   "file_extension": ".py",
   "mimetype": "text/x-python",
   "name": "python",
   "nbconvert_exporter": "python",
   "pygments_lexer": "ipython3",
   "version": "3.11.7"
  }
 },
 "nbformat": 4,
 "nbformat_minor": 2
}
